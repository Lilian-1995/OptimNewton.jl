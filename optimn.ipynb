{
 "cells": [
  {
   "cell_type": "code",
   "execution_count": 1,
   "metadata": {},
   "outputs": [
    {
     "ename": "ArgumentError",
     "evalue": "ArgumentError: Package OptimNewton not found in current path:\n- Run `import Pkg; Pkg.add(\"OptimNewton\")` to install the OptimNewton package.\n",
     "output_type": "error",
     "traceback": [
      "ArgumentError: Package OptimNewton not found in current path:\n- Run `import Pkg; Pkg.add(\"OptimNewton\")` to install the OptimNewton package.\n",
      "",
      "Stacktrace:",
      " [1] require(::Module, ::Symbol) at ./loading.jl:823",
      " [2] top-level scope at In[1]:1"
     ]
    }
   ],
   "source": [
    "using OptimNewton\n",
    "f(x) = cos(x)\n",
    "g(x) = -sin(x)\n",
    "h(x) = -cos(x)\n",
    "x = 2.0\n",
    "x = OptimNewton.optimize_newton(x, f, g, h; \n",
    "                    prints=true)"
   ]
  },
  {
   "cell_type": "code",
   "execution_count": null,
   "metadata": {},
   "outputs": [],
   "source": [
    "using Optim\n",
    "using Plots\n",
    "function f(x)\n",
    "    return (1.0 - x[1])^2 + 100.0 * (x[2] - x[1]^2)^2\n",
    "end\n",
    "\n",
    "function g!(G, x) # grad\n",
    "    G[1] = -2.0 * (1.0 - x[1]) - 400.0 * (x[2] - x[1]^2) * x[1]\n",
    "    G[2] = 200.0 * (x[2] - x[1]^2)\n",
    "end\n",
    "\n",
    "function h!(H, x) # hess\n",
    "    H[1, 1] = 2.0 - 400.0 * x[2] + 1200.0 * x[1]^2\n",
    "    H[1, 2] = -400.0 * x[1]\n",
    "    H[2, 1] = -400.0 * x[1]\n",
    "    H[2, 2] = 200.0\n",
    "end\n",
    "\n",
    "initial_x = zeros(2)\n",
    "sol = Optim.optimize(f, g!, h!, initial_x, Optim.Newton())\n",
    "Optim.minimizer(sol)\n",
    "Optim.minimizer(optimize(f, g!, initial_x, LBFGS()))\n",
    "xran = 0.5:0.01:1.5\n",
    "yran = 0.5:0.01:1.5\n",
    "Plots.plot(xran, yran, [f([x,y]) for x = xran, y = yran])\n",
    "Optim.minimizer(optimize(f, initial_x, Newton()))\n",
    "Optim.minimizer(optimize(f, initial_x, Newton(); autodiff=:forward))"
   ]
  }
 ],
 "metadata": {
  "kernelspec": {
   "display_name": "Julia 1.0.3",
   "language": "julia",
   "name": "julia-1.0"
  },
  "language_info": {
   "file_extension": ".jl",
   "mimetype": "application/julia",
   "name": "julia",
   "version": "1.0.3"
  }
 },
 "nbformat": 4,
 "nbformat_minor": 2
}
